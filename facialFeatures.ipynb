{
 "cells": [
  {
   "cell_type": "code",
   "execution_count": 2,
   "metadata": {},
   "outputs": [],
   "source": [
    "#importing esential libraries\n",
    "import cv2\n",
    "\n",
    "#intiating the HAAR_CASCADE classifiers for faces, eyes, smile, nose\n",
    "faces_cascade = cv2.CascadeClassifier('haarcascade_frontalface_default.xml')\n",
    "eyes_cascade = cv2.CascadeClassifier('haarcascade_eye.xml')\n",
    "nose_cascade = cv2.CascadeClassifier('haarcascade_nose.xml')\n",
    "smile_cascade = cv2.CascadeClassifier('haarcascade_smile.xml')\n",
    "\n",
    "#reading the frames from the camera and then using the cascadeclassifiers\n",
    "capture = cv2.VideoCapture(0)\n",
    "while(capture.isOpened()):\n",
    "    ret, frame = capture.read()\n",
    "    gray = cv2.cvtColor(frame, cv2.COLOR_BGR2GRAY)\n",
    "    faces = faces_cascade.detectMultiScale(gray, 1.3, 5)\n",
    "    for (x,y,w,h) in faces:\n",
    "        img = cv2.rectangle(frame,(x,y),(x+w,y+h),(0,255,255),2)\n",
    "        roi_gray = gray[y:y+h, x:x+w]\n",
    "        roi_color = frame[y:y+h, x:x+w]\n",
    "        eyes = eyes_cascade.detectMultiScale(roi_gray,1.1,5)\n",
    "        for (ex,ey,ew,eh) in eyes:\n",
    "            cv2.rectangle(roi_color,(ex,ey),(ex+ew,ey+eh),(0,255,0),2) \n",
    "        nose = nose_cascade.detectMultiScale(roi_gray,1.2,4)\n",
    "        for (nx,ny,nw,nh) in nose :\n",
    "            cv2.rectangle(roi_color, (nx,ny),(nx+nw,ny+nh),(255,0,0),2)\n",
    "    cv2.imshow(\"Live_stream\", frame)\n",
    "    if(cv2.waitKey(10) & 0xFF == ord('x')):\n",
    "        break\n",
    "capture.release()\n",
    "cv2.destroyAllWindows()"
   ]
  }
 ],
 "metadata": {
  "kernelspec": {
   "display_name": "Python 3",
   "language": "python",
   "name": "python3"
  },
  "language_info": {
   "codemirror_mode": {
    "name": "ipython",
    "version": 3
   },
   "file_extension": ".py",
   "mimetype": "text/x-python",
   "name": "python",
   "nbconvert_exporter": "python",
   "pygments_lexer": "ipython3",
   "version": "3.8.3"
  }
 },
 "nbformat": 4,
 "nbformat_minor": 4
}
